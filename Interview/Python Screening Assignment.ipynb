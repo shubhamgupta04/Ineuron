{
 "cells": [
  {
   "cell_type": "markdown",
   "id": "86884dcb",
   "metadata": {},
   "source": [
    "## 1. Create a function in python to read the text file and replace specific content of the file.\n",
    "File name:- example.txt\n",
    "Origin file content :- This is a placement assignment\n",
    "Replace string:- Placement should be replaced by screening.\n",
    "Replaced file content:- This is a screening assignment"
   ]
  },
  {
   "cell_type": "code",
   "execution_count": 1,
   "id": "cbe694b9",
   "metadata": {},
   "outputs": [],
   "source": [
    "#create file example.txt\n",
    "l = open(\"example.txt\",'w')\n",
    "l.write('This is a placement assignment')\n",
    "l.close()"
   ]
  },
  {
   "attachments": {
    "image-2.png": {
     "image/png": "[encoded data removed]"
    }
   },
   "cell_type": "markdown",
   "id": "2b5f9317",
   "metadata": {},
   "source": [
    "![image-2.png](attachment:image-2.png)"
   ]
  },
  {
   "cell_type": "code",
   "execution_count": 2,
   "id": "10c3138f",
   "metadata": {},
   "outputs": [],
   "source": [
    "def replace_string (file):\n",
    "    l = open(file,'r')\n",
    "    content = l.read()\n",
    "    l.close()\n",
    "    content = content.replace('placement' , 'screening')\n",
    "    l = open(file,'w')\n",
    "    l.write(content)\n",
    "    l.close()"
   ]
  },
  {
   "cell_type": "code",
   "execution_count": 3,
   "id": "d05f0894",
   "metadata": {},
   "outputs": [],
   "source": [
    "replace_string(\"example.txt\")"
   ]
  },
  {
   "attachments": {
    "image.png": {
     "image/png": "[encoded data removed]"
    }
   },
   "cell_type": "markdown",
   "id": "cec02443",
   "metadata": {},
   "source": [
    "![image.png](attachment:image.png)"
   ]
  },
  {
   "cell_type": "markdown",
   "id": "a3e05c89",
   "metadata": {},
   "source": [
    "## 2. Demonstrate use of abstract class, multiple inheritance and decorator in python using examples."
   ]
  },
  {
   "cell_type": "markdown",
   "id": "d6f5fb19",
   "metadata": {},
   "source": [
    "##  Abstract Class"
   ]
  },
  {
   "cell_type": "code",
   "execution_count": 1,
   "id": "02bd106b",
   "metadata": {},
   "outputs": [
    {
     "name": "stdout",
     "output_type": "stream",
     "text": [
      "Shubham Gupta and salary is 50000.\n"
     ]
    }
   ],
   "source": [
    "class Person:\n",
    "    def __init__(self, name, surname, salary):\n",
    "        self.name = name \n",
    "        self._surname = surname         # _ single underscore means protected\n",
    "        self.__salary = salary   # __ double underscore means private\n",
    "    \n",
    "    def getName(self, current_year):\n",
    "        return self.name + ' ' + self._surname\n",
    "    \n",
    "    def __str__(self):\n",
    "        return \"%s %s and salary is %d.\" \\\n",
    "                % (self.name, self._surname, self.__salary)\n",
    "    \n",
    "person1 = Person(\"Shubham\", \"Gupta\", 50000)\n",
    "print(person1)"
   ]
  },
  {
   "cell_type": "code",
   "execution_count": 2,
   "id": "e8bdb5c4",
   "metadata": {},
   "outputs": [
    {
     "data": {
      "text/plain": [
       "{'name': 'Shubham', '_surname': 'Gupta', '_Person__salary': 50000}"
      ]
     },
     "execution_count": 2,
     "metadata": {},
     "output_type": "execute_result"
    }
   ],
   "source": [
    "person1.__dict__"
   ]
  },
  {
   "cell_type": "code",
   "execution_count": 3,
   "id": "4f114ed7",
   "metadata": {},
   "outputs": [
    {
     "data": {
      "text/plain": [
       "<__main__.Person at 0x203bb9bd6d0>"
      ]
     },
     "execution_count": 3,
     "metadata": {},
     "output_type": "execute_result"
    }
   ],
   "source": [
    "person1"
   ]
  },
  {
   "cell_type": "code",
   "execution_count": 4,
   "id": "b210a622",
   "metadata": {},
   "outputs": [
    {
     "name": "stdout",
     "output_type": "stream",
     "text": [
      "Shubham Gupta 50000\n"
     ]
    }
   ],
   "source": [
    "print(person1.name, person1._surname, person1._Person__salary)"
   ]
  },
  {
   "cell_type": "markdown",
   "id": "8c5f8476",
   "metadata": {},
   "source": [
    "## Multiple Inheritance"
   ]
  },
  {
   "cell_type": "code",
   "execution_count": 5,
   "id": "b622c790",
   "metadata": {},
   "outputs": [],
   "source": [
    "class A:\n",
    "    def method1(self):\n",
    "        print(\"Class A inside method1\")\n",
    "        \n",
    "## Class B inheriting base class A\n",
    "class B(A):\n",
    "    def method1(self):\n",
    "        print(\"Class B inside method1\")\n",
    "        \n",
    "## Class C inheriting base class A\n",
    "class C(A):\n",
    "    def method1(self):\n",
    "        print(\"Class C inside method1\")\n",
    "    def method2(self):\n",
    "        print(\"Class C inside method2\")\n",
    "        \n",
    "## Class D inheriting base class B and C\n",
    "class D(B,C):\n",
    "    def method1(self):\n",
    "        print(\"Class D inside method1\")"
   ]
  },
  {
   "cell_type": "code",
   "execution_count": 6,
   "id": "e1002477",
   "metadata": {},
   "outputs": [],
   "source": [
    "obj_d = D()"
   ]
  },
  {
   "cell_type": "code",
   "execution_count": 7,
   "id": "e4cc1500",
   "metadata": {},
   "outputs": [
    {
     "name": "stdout",
     "output_type": "stream",
     "text": [
      "Class D inside method1\n",
      "Class C inside method2\n"
     ]
    }
   ],
   "source": [
    "obj_d.method1()\n",
    "obj_d.method2()"
   ]
  },
  {
   "cell_type": "code",
   "execution_count": 8,
   "id": "af42b8a5",
   "metadata": {},
   "outputs": [
    {
     "name": "stdout",
     "output_type": "stream",
     "text": [
      "Class B inside method1\n"
     ]
    }
   ],
   "source": [
    "B.method1(obj_d)"
   ]
  },
  {
   "cell_type": "code",
   "execution_count": 9,
   "id": "4989ae2c",
   "metadata": {},
   "outputs": [
    {
     "name": "stdout",
     "output_type": "stream",
     "text": [
      "Class A inside method1\n"
     ]
    }
   ],
   "source": [
    "A.method1(obj_d)"
   ]
  },
  {
   "cell_type": "markdown",
   "id": "e666cc79",
   "metadata": {},
   "source": [
    "## Decorator"
   ]
  },
  {
   "cell_type": "code",
   "execution_count": null,
   "id": "6ea1e624",
   "metadata": {},
   "outputs": [],
   "source": [
    "-> Decorators allows to modify the behaviour of a function or class.\n",
    "-> Decorators allow us to wrap another function in order to extend the behaviour of the wrapped function, without permanently modifying it"
   ]
  },
  {
   "cell_type": "code",
   "execution_count": 10,
   "id": "7720af46",
   "metadata": {},
   "outputs": [
    {
     "name": "stdout",
     "output_type": "stream",
     "text": [
      "Before Execution\n",
      "Inside the function\n",
      "After Execution\n",
      "Sum = 3\n"
     ]
    }
   ],
   "source": [
    "def decorator(func):\n",
    "    def inner_function(*args, **kwargs):\n",
    "        \n",
    "        print(\"Before Execution\")\n",
    "        \n",
    "        returned_value = func(*args, **kwargs)\n",
    "        \n",
    "        print(\"After Execution\")\n",
    "        \n",
    "        # returning the value to the original frame\n",
    "        return returned_value\n",
    "    \n",
    "    return inner_function\n",
    "\n",
    "\n",
    "# adding decorator to the function\n",
    "@decorator\n",
    "def sum_two_numbers(a, b):\n",
    "    print(\"Inside the function\")\n",
    "    return a + b\n",
    "\n",
    "# getting the value through return of the function\n",
    "print(\"Sum =\", sum_two_numbers(a=1, b=2))"
   ]
  },
  {
   "cell_type": "code",
   "execution_count": 11,
   "id": "47740473",
   "metadata": {},
   "outputs": [],
   "source": [
    "#Multiple Inheritance\n",
    "\n",
    "class xyz:\n",
    "    def __init__(self,a,b,c):\n",
    "        self.a = a\n",
    "        self.b = b\n",
    "        self.c = c\n",
    "    \n",
    "    def test(self):\n",
    "        print(\"This is meth of xyz class\")\n",
    "\n",
    "class xyz1:\n",
    "    def __init__(self,p,q,v):\n",
    "        self.p = p\n",
    "        self.v = v\n",
    "        self.q = q\n",
    "    \n",
    "    def test1(self):\n",
    "        print(\"This is meth of xyz1 class\")\n",
    "\n",
    "class child(xyz1,xyz): ##to acesss the variable constructor is required for child class\n",
    "    def __init__(self,*args,**kwargs):\n",
    "        xyz.__init__(self,*args)\n",
    "        xyz1.__init__(self,**kwargs)"
   ]
  },
  {
   "cell_type": "code",
   "execution_count": null,
   "id": "aab23d16",
   "metadata": {},
   "outputs": [],
   "source": []
  }
 ],
 "metadata": {
  "kernelspec": {
   "display_name": "Python 3 (ipykernel)",
   "language": "python",
   "name": "python3"
  },
  "language_info": {
   "codemirror_mode": {
    "name": "ipython",
    "version": 3
   },
   "file_extension": ".py",
   "mimetype": "text/x-python",
   "name": "python",
   "nbconvert_exporter": "python",
   "pygments_lexer": "ipython3",
   "version": "3.9.7"
  }
 },
 "nbformat": 4,
 "nbformat_minor": 5
}
