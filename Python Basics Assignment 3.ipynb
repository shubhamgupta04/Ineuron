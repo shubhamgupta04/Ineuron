{
 "cells": [
  {
   "cell_type": "markdown",
   "id": "498f0974",
   "metadata": {},
   "source": [
    "## 1. Why are functions advantageous to have in your programs?"
   ]
  },
  {
   "cell_type": "markdown",
   "id": "0e07d0ee",
   "metadata": {},
   "source": [
    "Ans.\n",
    "1) Reducing duplication of codes.\n",
    "2) Decomposing complex problems into simpler peices.\n",
    "3) Improving clarity of code.\n",
    "4) Reuse of code\n",
    "5) Information hiding."
   ]
  },
  {
   "cell_type": "markdown",
   "id": "68c54fe0",
   "metadata": {},
   "source": [
    "## 2. When does the code in a function run: when it's specified or when it's called?"
   ]
  },
  {
   "cell_type": "markdown",
   "id": "e9d140ab",
   "metadata": {},
   "source": [
    "Ans.\n",
    "When you define a function you give a name to a set of actions you want the computer to perform.\n",
    "When you call a function you are telling the computer to run (or execute) that set of actions."
   ]
  },
  {
   "cell_type": "markdown",
   "id": "275e58cd",
   "metadata": {},
   "source": [
    "## 3.What statement creates a function?"
   ]
  },
  {
   "cell_type": "markdown",
   "id": "eab17cd3",
   "metadata": {},
   "source": [
    "def” keyword\n",
    "eg :- def function_name():"
   ]
  },
  {
   "cell_type": "markdown",
   "id": "8b90fb79",
   "metadata": {},
   "source": [
    "## 4.What is the difference between a function and a function call?"
   ]
  },
  {
   "cell_type": "markdown",
   "id": "47b5e41a",
   "metadata": {},
   "source": [
    "Ans.\n",
    "Function is procedure to achieve a particular result while function call is using this function to achive that task.\n",
    "Function call run that set of actions. So, unless a function is called there is no use of that function."
   ]
  },
  {
   "cell_type": "markdown",
   "id": "878ae671",
   "metadata": {},
   "source": [
    "## 5.How many global scopes are there in a Python program? How many local scopes?"
   ]
  },
  {
   "cell_type": "markdown",
   "id": "8d04ad0c",
   "metadata": {},
   "source": [
    "Ans.\n",
    "Global (G) - Variable defined outside any fuction & which are accessible throughout program ie. inside & outside fuction.\n",
    "Local (L) - Variable defined inside a fuction & limited to this function only. cannot accessible anywhere outside function.\n",
    "Built-in (B) -reserved keywords\n",
    "Enclosing - variable that is declared inside a function that contains another function definition within it, the inner function can also access the variable of the outer function."
   ]
  },
  {
   "cell_type": "markdown",
   "id": "b34d5f48",
   "metadata": {},
   "source": [
    "## 6. What happens to variables in a local scope when the function call returns?"
   ]
  },
  {
   "cell_type": "markdown",
   "id": "8fd976f2",
   "metadata": {},
   "source": [
    "Ans. The local variables are destroyed when function call returns."
   ]
  },
  {
   "cell_type": "markdown",
   "id": "2a03f29a",
   "metadata": {},
   "source": [
    "## 7. What is the concept of a return value? Is it possible to have a return value in an expression?"
   ]
  },
  {
   "cell_type": "markdown",
   "id": "c705c14a",
   "metadata": {},
   "source": [
    "Ans.\n",
    "return is a value that a function returns to the calling script or function when it completes its task.\n",
    "Return value is value, varible or expression which a function can return.\n",
    "Yes function return value can be an expression"
   ]
  },
  {
   "cell_type": "code",
   "execution_count": 1,
   "id": "bb7c9814",
   "metadata": {},
   "outputs": [
    {
     "data": {
      "text/plain": [
       "40"
      ]
     },
     "execution_count": 1,
     "metadata": {},
     "output_type": "execute_result"
    }
   ],
   "source": [
    "def fun(a,b):\n",
    "    return a+b+10  ## Returning the expression\n",
    "\n",
    "fun(10, 20)"
   ]
  },
  {
   "cell_type": "markdown",
   "id": "07ad8075",
   "metadata": {},
   "source": [
    "## 8. If a function does not have a return statement, what is the return value of a call to that function?"
   ]
  },
  {
   "cell_type": "markdown",
   "id": "bb208585",
   "metadata": {},
   "source": [
    "Ans.\n",
    "If a function does not have a return statement that means the function is not returning any values.\n",
    "In this case after function is executed completly it will return a NoneType."
   ]
  },
  {
   "cell_type": "code",
   "execution_count": 14,
   "id": "e227e3f4",
   "metadata": {},
   "outputs": [
    {
     "data": {
      "text/plain": [
       "NoneType"
      ]
     },
     "execution_count": 14,
     "metadata": {},
     "output_type": "execute_result"
    }
   ],
   "source": [
    "def fun():\n",
    "    a = 30\n",
    "\n",
    "type(fun())"
   ]
  },
  {
   "cell_type": "markdown",
   "id": "116fe1e5",
   "metadata": {},
   "source": [
    "## 9. How do you make a function variable refer to the global variable?"
   ]
  },
  {
   "cell_type": "markdown",
   "id": "28402bcd",
   "metadata": {},
   "source": [
    "Ans.\n",
    "This can be achieved by using global keyword to redefine the variable and make the changes of variable as global change."
   ]
  },
  {
   "cell_type": "code",
   "execution_count": 2,
   "id": "87706dd2",
   "metadata": {},
   "outputs": [
    {
     "name": "stdout",
     "output_type": "stream",
     "text": [
      "0\n",
      "10\n"
     ]
    }
   ],
   "source": [
    "var1 = 0\n",
    "def fun9():\n",
    "    global var1\n",
    "    var1 = 10\n",
    "    \n",
    "print(var1)\n",
    "fun9()\n",
    "print(var1)"
   ]
  },
  {
   "cell_type": "markdown",
   "id": "50f62b0c",
   "metadata": {},
   "source": [
    "## 10. What is the data type of None?"
   ]
  },
  {
   "cell_type": "markdown",
   "id": "593133fb",
   "metadata": {},
   "source": [
    "Ans.\n",
    "None data type is a null variable or null object. The null object is a data type of class NoneType."
   ]
  },
  {
   "cell_type": "markdown",
   "id": "9dd59685",
   "metadata": {},
   "source": [
    "## 11. What does the sentence import areallyourpetsnamederic do?"
   ]
  },
  {
   "cell_type": "markdown",
   "id": "57627524",
   "metadata": {},
   "source": [
    "Ans.\n",
    "The statement \"import areallyourpetsnamederic\" will import the module or package areallyourpetsnamederic.\n",
    "But there is No module named 'areallyourpetsnamederic'."
   ]
  },
  {
   "cell_type": "code",
   "execution_count": 3,
   "id": "1a4c7deb",
   "metadata": {},
   "outputs": [
    {
     "ename": "ModuleNotFoundError",
     "evalue": "No module named 'areallyourpetsnamederic'",
     "output_type": "error",
     "traceback": [
      "\u001b[1;31m---------------------------------------------------------------------------\u001b[0m",
      "\u001b[1;31mModuleNotFoundError\u001b[0m                       Traceback (most recent call last)",
      "\u001b[1;32m~\\AppData\\Local\\Temp/ipykernel_7724/51184242.py\u001b[0m in \u001b[0;36m<module>\u001b[1;34m\u001b[0m\n\u001b[1;32m----> 1\u001b[1;33m \u001b[1;32mimport\u001b[0m \u001b[0mareallyourpetsnamederic\u001b[0m\u001b[1;33m\u001b[0m\u001b[1;33m\u001b[0m\u001b[0m\n\u001b[0m",
      "\u001b[1;31mModuleNotFoundError\u001b[0m: No module named 'areallyourpetsnamederic'"
     ]
    }
   ],
   "source": [
    "import areallyourpetsnamederic"
   ]
  },
  {
   "cell_type": "markdown",
   "id": "57569887",
   "metadata": {},
   "source": [
    "## 12. If you had a bacon() feature in a spam module, what would you call it after importing spam?"
   ]
  },
  {
   "cell_type": "markdown",
   "id": "508e7c39",
   "metadata": {},
   "source": [
    "import spam\n",
    "spam.bacon()"
   ]
  },
  {
   "cell_type": "markdown",
   "id": "49c66082",
   "metadata": {},
   "source": [
    "## 13. What can you do to save a programme from crashing if it encounters an error?"
   ]
  },
  {
   "cell_type": "markdown",
   "id": "ae0c1cc6",
   "metadata": {},
   "source": [
    "Ans.\n",
    "To save the program from crashing over a runtime error we can use the try and except statement.\n",
    "It will save from only the runtime error not the compile time error."
   ]
  },
  {
   "cell_type": "code",
   "execution_count": null,
   "id": "34c56628",
   "metadata": {},
   "outputs": [],
   "source": [
    "try:\n",
    "    pass\n",
    "except:\n",
    "    pass"
   ]
  },
  {
   "cell_type": "markdown",
   "id": "4396688c",
   "metadata": {},
   "source": [
    "## 14. What is the purpose of the try clause? What is the purpose of the except clause?"
   ]
  },
  {
   "cell_type": "markdown",
   "id": "4c1f2a67",
   "metadata": {},
   "source": [
    "Ans.\n",
    "Together try and except block is used to save programme from crashing when an error is encountered.\n",
    "Try: Try block is used for any suspicious code which can throw a runtime error.\n",
    "Except: Except block is used to catch error if any encountered inside try block."
   ]
  }
 ],
 "metadata": {
  "kernelspec": {
   "display_name": "Python 3 (ipykernel)",
   "language": "python",
   "name": "python3"
  },
  "language_info": {
   "codemirror_mode": {
    "name": "ipython",
    "version": 3
   },
   "file_extension": ".py",
   "mimetype": "text/x-python",
   "name": "python",
   "nbconvert_exporter": "python",
   "pygments_lexer": "ipython3",
   "version": "3.9.7"
  }
 },
 "nbformat": 4,
 "nbformat_minor": 5
}
