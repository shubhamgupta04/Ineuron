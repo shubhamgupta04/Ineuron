{
 "cells": [
  {
   "cell_type": "markdown",
   "id": "cd7cc468",
   "metadata": {},
   "source": [
    "# Python Basic Assignment 2"
   ]
  },
  {
   "cell_type": "markdown",
   "id": "5ec3c4bc",
   "metadata": {},
   "source": [
    "#1.What are the two values of the Boolean data type? How do you write them?\n",
    "#Ans. Two values of the Boolean data type- True, Flase\n",
    "type(True), type(False)"
   ]
  },
  {
   "cell_type": "markdown",
   "id": "1901a031",
   "metadata": {},
   "source": [
    "#2.What are the three different types of Boolean operators?\n",
    "#Ans. OR, AND, NOT"
   ]
  },
  {
   "cell_type": "markdown",
   "id": "ef7e7000",
   "metadata": {},
   "source": [
    "#3.Make a list of each Boolean operator's truth tables (i.e. every possible combination of Boolean values for the operator and what it evaluate ).\n",
    "#OR operator\n",
    "  A      B\t    A or B         \n",
    "True\tTrue\tTrue\n",
    "False\tTrue\tTrue\n",
    "True\tFalse\tTrue\n",
    "False\tFalse\tFalse\n",
    "\n",
    "#AND operator\n",
    "A\t     B\t    A and B\n",
    "True\tTrue\tTrue\n",
    "False\tTrue\tFalse\n",
    "True\tFalse\tFalse\n",
    "False\tFalse\tFalse\n",
    "\n",
    "#NOT operator\n",
    "A\t    not A\n",
    "True\tFalse\n",
    "False\tTrue\n",
    "\n",
    "#OR evaluates if the first argument is True, then the result is True, and there is no need to evaluate the second argument.\n",
    "#AND evaluates if the first input is False, then the second input isn’t evaluated.\n",
    "#NOT evaluates its argument before returning its result."
   ]
  },
  {
   "cell_type": "markdown",
   "id": "e16ac01b",
   "metadata": {},
   "source": [
    "#4.What are the values of the following expressions?\n",
    "(5 > 4) and (3 == 5) #False\n",
    "not (5 > 4) #False\n",
    "(5 > 4) or (3 == 5) #True\n",
    "not ((5 > 4) or (3 == 5)) #False\n",
    "(True and True) and (True == False) #False\n",
    "(not False) or (not True) #True"
   ]
  },
  {
   "cell_type": "markdown",
   "id": "89b068a3",
   "metadata": {},
   "source": [
    "#5.What are the six comparison operators?\n",
    "#Ans.\n",
    "1)equality operator (==)\n",
    "2)inequality operator (!=)\n",
    "3)Less than(<)\n",
    "4)Greater than(>)\n",
    "5)Less than(<=)\n",
    "6)Greater than(>=)"
   ]
  },
  {
   "cell_type": "code",
   "execution_count": 7,
   "id": "b42fe214",
   "metadata": {},
   "outputs": [
    {
     "name": "stdout",
     "output_type": "stream",
     "text": [
      "10\n",
      "True\n"
     ]
    }
   ],
   "source": [
    "#6.How do you tell the difference between the equal to and assignment operators?Describe a condition and when you would use one.\n",
    "#Ans. Condition with ussage,\n",
    "a = 10 #Assignment operator “=” is used to assign the value on the right to the variable on the left.\n",
    "print(a)\n",
    "\n",
    "a=10 #Equal to operator '==' checks whether the two given operands are equal or not.\n",
    "b=10\n",
    "if a==b:\n",
    "    print(\"True\")"
   ]
  },
  {
   "cell_type": "code",
   "execution_count": 5,
   "id": "f6597d76",
   "metadata": {},
   "outputs": [
    {
     "name": "stdout",
     "output_type": "stream",
     "text": [
      "ham\n",
      "spam\n",
      "spam\n"
     ]
    }
   ],
   "source": [
    "#7.Identify the three blocks in this code:\n",
    "spam = 0\n",
    "if spam == 10:\n",
    "    print('eggs')\n",
    "if spam > 5:\n",
    "    print('bacon')\n",
    "else:\n",
    "    print('ham')\n",
    "    print('spam')\n",
    "    print('spam')"
   ]
  },
  {
   "cell_type": "code",
   "execution_count": 41,
   "id": "2d1757e0",
   "metadata": {},
   "outputs": [
    {
     "name": "stdout",
     "output_type": "stream",
     "text": [
      "1\n",
      "Hello\n"
     ]
    }
   ],
   "source": [
    "#8.Write code that prints Hello if 1 is stored in spam, prints Howdy if 2 is stored in spam, and prints Greetings! if anything else is stored in spam.\n",
    "spam = int(input())\n",
    "if spam == 1:\n",
    "    print(\"Hello\")\n",
    "elif spam == 2:\n",
    "    print(\"Howdy\")\n",
    "else:\n",
    "    print(\"Greetings\")"
   ]
  },
  {
   "cell_type": "markdown",
   "id": "dc0d2003",
   "metadata": {},
   "source": [
    "#9.If your programme is stuck in an endless loop, what keys you’ll press?\n",
    "#Ans.stop an infinite loop with CTRL + C"
   ]
  },
  {
   "cell_type": "markdown",
   "id": "73b19ee0",
   "metadata": {},
   "source": [
    "#10.How can you tell the difference between break and continue?\n",
    "Ans. Break statement is used to exit from the loop constructs. Continue statement is not used to exit from the loop constructs."
   ]
  },
  {
   "cell_type": "markdown",
   "id": "63599fe9",
   "metadata": {},
   "source": [
    "#11.In a for loop, what is the difference between range(10), range(0, 10), and range(0, 10, 1)?\n",
    "#Ans.There is no such difference and will produces range 0,1,2,3,4,5,6,7,8,9\n",
    "range(10)- start defaults to 0, and stop is 9. \n",
    "range(0, 10)- Start given 0 and stop is 9.\n",
    "range(0,10,1)- Start given 0, stop till 9 and jump size is 1."
   ]
  },
  {
   "cell_type": "code",
   "execution_count": 4,
   "id": "6c472826",
   "metadata": {},
   "outputs": [
    {
     "name": "stdout",
     "output_type": "stream",
     "text": [
      "for loop 1\n",
      "for loop 2\n",
      "for loop 3\n",
      "for loop 4\n",
      "for loop 5\n",
      "for loop 6\n",
      "for loop 7\n",
      "for loop 8\n",
      "for loop 9\n",
      "for loop 10\n",
      "while loop 1\n",
      "while loop 2\n",
      "while loop 3\n",
      "while loop 4\n",
      "while loop 5\n",
      "while loop 6\n",
      "while loop 7\n",
      "while loop 8\n",
      "while loop 9\n",
      "while loop 10\n"
     ]
    }
   ],
   "source": [
    "#12.Write a short program that prints the numbers 1 to 10 using a for loop.\n",
    "n=11\n",
    "for i in range(1,n):\n",
    "    print(\"for loop\",i)\n",
    "\n",
    "#Then write an equivalent program that prints the numbers 1 to 10 using a while loop.\n",
    "a=1\n",
    "while a <= 10:\n",
    "    print(\"while loop\",a)\n",
    "    a = a + 1"
   ]
  },
  {
   "cell_type": "markdown",
   "id": "53ee30e5",
   "metadata": {},
   "source": [
    "#13.If you had a function named bacon() inside a module named spam, how would you call it after importing spam?\n",
    "#Ans. shift + tab"
   ]
  }
 ],
 "metadata": {
  "kernelspec": {
   "display_name": "Python 3 (ipykernel)",
   "language": "python",
   "name": "python3"
  },
  "language_info": {
   "codemirror_mode": {
    "name": "ipython",
    "version": 3
   },
   "file_extension": ".py",
   "mimetype": "text/x-python",
   "name": "python",
   "nbconvert_exporter": "python",
   "pygments_lexer": "ipython3",
   "version": "3.9.7"
  }
 },
 "nbformat": 4,
 "nbformat_minor": 5
}
