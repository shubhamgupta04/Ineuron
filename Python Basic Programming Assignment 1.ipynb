{
 "cells": [
  {
   "cell_type": "markdown",
   "id": "e69be60b",
   "metadata": {},
   "source": [
    "## Python Basic Programming Assignment 1"
   ]
  },
  {
   "cell_type": "code",
   "execution_count": 29,
   "id": "ec1ade09",
   "metadata": {},
   "outputs": [
    {
     "name": "stdout",
     "output_type": "stream",
     "text": [
      "Hello Python\n"
     ]
    }
   ],
   "source": [
    "#1.Write a Python program to print \"Hello Python\"?\n",
    "a=5\n",
    "if a == 5:\n",
    "    print(\"Hello Python\")"
   ]
  },
  {
   "cell_type": "code",
   "execution_count": 27,
   "id": "4c5b762c",
   "metadata": {},
   "outputs": [
    {
     "name": "stdout",
     "output_type": "stream",
     "text": [
      "a:10\n",
      "b:5\n",
      "Addition: 15 Division: 2.0\n"
     ]
    }
   ],
   "source": [
    "#2.Write a Python program to do arithmetical operations addition and division.?\n",
    "a = int(input(\"a:\", ))\n",
    "b = int(input(\"b:\", ))\n",
    "if a + b and a/b:\n",
    "    print(\"Addition:\",a+b, \"Division:\", a/b)"
   ]
  },
  {
   "cell_type": "code",
   "execution_count": 24,
   "id": "04dd4233",
   "metadata": {},
   "outputs": [
    {
     "name": "stdout",
     "output_type": "stream",
     "text": [
      "length: 10\n",
      "breadth: 5\n",
      "Area of triangle: 25.0\n"
     ]
    }
   ],
   "source": [
    "#3.Write a Python program to find the area of a triangle?\n",
    "a = int(input(\"length: \", ))\n",
    "b = int(input(\"breadth: \", ))\n",
    "if a > b:\n",
    "    c = 0.5 * a * b\n",
    "    print(\"Area of triangle:\",c)\n",
    "else:\n",
    "    print(\"length cannot be smaller then breadth\")"
   ]
  },
  {
   "cell_type": "code",
   "execution_count": 17,
   "id": "aa512841",
   "metadata": {},
   "outputs": [
    {
     "name": "stdout",
     "output_type": "stream",
     "text": [
      "a:100\n",
      "b:50\n",
      "swap of a: 50\n",
      "swap of b: 100\n"
     ]
    }
   ],
   "source": [
    "#4.Write a Python program to swap two variables?\n",
    "a = input(\"a:\", )\n",
    "b = input(\"b:\", )\n",
    "a,b = b,a\n",
    "print(\"swap of a:\", a)\n",
    "print(\"swap of b:\", b)"
   ]
  },
  {
   "cell_type": "code",
   "execution_count": 10,
   "id": "50e1435e",
   "metadata": {},
   "outputs": [
    {
     "name": "stdout",
     "output_type": "stream",
     "text": [
      "1\n"
     ]
    }
   ],
   "source": [
    "#5.Write a Python program to generate a random number?\n",
    "import random\n",
    "print(random.randint(0,9))"
   ]
  }
 ],
 "metadata": {
  "kernelspec": {
   "display_name": "Python 3 (ipykernel)",
   "language": "python",
   "name": "python3"
  },
  "language_info": {
   "codemirror_mode": {
    "name": "ipython",
    "version": 3
   },
   "file_extension": ".py",
   "mimetype": "text/x-python",
   "name": "python",
   "nbconvert_exporter": "python",
   "pygments_lexer": "ipython3",
   "version": "3.9.7"
  }
 },
 "nbformat": 4,
 "nbformat_minor": 5
}
