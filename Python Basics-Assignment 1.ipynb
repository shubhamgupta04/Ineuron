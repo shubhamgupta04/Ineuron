{
 "cells": [
  {
   "cell_type": "markdown",
   "id": "80f922d2",
   "metadata": {},
   "source": [
    "# Python Basics-Assignment 1"
   ]
  },
  {
   "cell_type": "markdown",
   "id": "c8717e38",
   "metadata": {},
   "source": [
    "#1. In the below elements which of them are values or an expression?\n",
    "eg:- values can be integer or string and expressions will be mathematical operators.\n",
    "# * - Expression\n",
    "# 'hello' - value\n",
    "# -87.8 - value\n",
    "# - Expression\n",
    "# / - Expression\n",
    "# + - Expression\n",
    "# 6 - Value"
   ]
  },
  {
   "cell_type": "markdown",
   "id": "842f01a9",
   "metadata": {},
   "source": [
    "#2. What is the difference between string and variable?\n",
    "#String-> Anything you assign to a variable using quotes (single or double) will be considered as a string. Thus, a string is one of several types of a variable.\n",
    "eg:- a=\"10\" b=\"20\"\n",
    "print(a+b) #o/p:-1020\n",
    "\n",
    "#Variable-> Variables are the names of reserved memory locations where we store data/information or dataset. It can store everything from strings to numbers like integer, string, float, etc.\n",
    "eg:- a=10 b=20\n",
    "print(a+b) #o/p:-30"
   ]
  },
  {
   "cell_type": "markdown",
   "id": "70a2565a",
   "metadata": {},
   "source": [
    "#3. Describe three different data types.\n",
    "#Ans.\n",
    "1) Numeric- Interger int(), float(), complex no.\n",
    "2) boolean- true, false\n",
    "3) Sequence- string str(), list l(), tuple t()\n",
    "4) Dictonary- unordered collection that contains \"key : values\" pairs. x={key:value}\n",
    "5) Set-collection which is unordered, unchangeble, unindexed of a unique element. x={}"
   ]
  },
  {
   "cell_type": "markdown",
   "id": "dc22e143",
   "metadata": {},
   "source": [
    "#4. What is an expression made up of? What do all expressions do?\n",
    "#Ans. An expression is made up of combination of operators, constants and variables. An expression may consist of one or more operands, and zero or more operators to produce a value.\n",
    "eg:- d=a+b*c #expression used here is +, *"
   ]
  },
  {
   "cell_type": "markdown",
   "id": "b747a550",
   "metadata": {},
   "source": [
    "#5. This assignment statements, like spam = 10. What is the difference between an expression and a statement?\n",
    "Ans.\n",
    "#Expressions always produce values and we can assign these values to new variables.\n",
    "eg:- a=5 b=5 spam=a+b o/p:-10\n",
    "\n",
    "#Statement does something, like creating a variable or displaying a value, it only does whatever the statement says.Statement performs some action such as printing values, looping, or if statement.\n",
    "eg:- spam=10 print(spam) o/p:-10"
   ]
  },
  {
   "cell_type": "code",
   "execution_count": 1,
   "id": "75cbe4fd",
   "metadata": {},
   "outputs": [
    {
     "data": {
      "text/plain": [
       "23"
      ]
     },
     "execution_count": 1,
     "metadata": {},
     "output_type": "execute_result"
    }
   ],
   "source": [
    "#6. After running the following code, what does the variable bacon contain?\n",
    "bacon = 22\n",
    "bacon + 1\n",
    "#bacon contain 22."
   ]
  },
  {
   "cell_type": "code",
   "execution_count": 3,
   "id": "a092b7ff",
   "metadata": {},
   "outputs": [
    {
     "data": {
      "text/plain": [
       "'spamspamspam'"
      ]
     },
     "execution_count": 3,
     "metadata": {},
     "output_type": "execute_result"
    }
   ],
   "source": [
    "#7. What should the values of the following two terms be?\n",
    "\"spam\"+\"spamspam\" #o/p:-\"spamspamspam\"\n",
    "\"spam\"*3 #o/p:-\"spamspamspam\""
   ]
  },
  {
   "cell_type": "markdown",
   "id": "b64429ec",
   "metadata": {},
   "source": [
    "#8. Why is eggs a valid variable name while 100 is invalid?\n",
    "Ans.\n",
    "Egg can be used as varibles to store dataset. But 100 is already a value cannot assigned as varible."
   ]
  },
  {
   "cell_type": "markdown",
   "id": "f1f0013c",
   "metadata": {},
   "source": [
    "#9. What three functions can be used to get the integer, floating-point number, or string version of a value?\n",
    "Ans. \n",
    "int() , float(), str()"
   ]
  },
  {
   "cell_type": "code",
   "execution_count": 7,
   "id": "77ed1487",
   "metadata": {},
   "outputs": [
    {
     "data": {
      "text/plain": [
       "'I have eaten 99 burritos'"
      ]
     },
     "execution_count": 7,
     "metadata": {},
     "output_type": "execute_result"
    }
   ],
   "source": [
    "#10. Why does this expression cause an error? How can you fix it?\n",
    "#\"I have eaten\" + 99 + \"burritos\" #error o/p:- can only concatenate str (not \"int\") to str\n",
    "\"I have eaten \" + str(99) + \" burritos\" #Fix o/p:-'I have eaten 99 burritos'"
   ]
  },
  {
   "cell_type": "code",
   "execution_count": null,
   "id": "5a810ee9",
   "metadata": {},
   "outputs": [],
   "source": []
  }
 ],
 "metadata": {
  "kernelspec": {
   "display_name": "Python 3 (ipykernel)",
   "language": "python",
   "name": "python3"
  },
  "language_info": {
   "codemirror_mode": {
    "name": "ipython",
    "version": 3
   },
   "file_extension": ".py",
   "mimetype": "text/x-python",
   "name": "python",
   "nbconvert_exporter": "python",
   "pygments_lexer": "ipython3",
   "version": "3.9.7"
  }
 },
 "nbformat": 4,
 "nbformat_minor": 5
}
